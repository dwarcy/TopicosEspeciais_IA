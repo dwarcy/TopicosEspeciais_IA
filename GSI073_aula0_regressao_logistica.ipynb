{
  "nbformat": 4,
  "nbformat_minor": 0,
  "metadata": {
    "colab": {
      "private_outputs": true,
      "provenance": [],
      "include_colab_link": true
    },
    "kernelspec": {
      "name": "python3",
      "display_name": "Python 3"
    },
    "language_info": {
      "name": "python"
    }
  },
  "cells": [
    {
      "cell_type": "markdown",
      "metadata": {
        "id": "view-in-github",
        "colab_type": "text"
      },
      "source": [
        "<a href=\"https://colab.research.google.com/github/dwarcy/TopicosEspeciais_IA/blob/main/GSI073_aula0_regressao_logistica.ipynb\" target=\"_parent\"><img src=\"https://colab.research.google.com/assets/colab-badge.svg\" alt=\"Open In Colab\"/></a>"
      ]
    },
    {
      "cell_type": "markdown",
      "source": [
        "# GSI073 - Tópicos Especiais de Inteligência Artificial\n",
        "\n",
        "## Definição dos dados"
      ],
      "metadata": {
        "id": "Mwsc0ViVertv"
      }
    },
    {
      "cell_type": "code",
      "execution_count": null,
      "metadata": {
        "id": "OmZxMYLGefOh",
        "collapsed": true
      },
      "outputs": [],
      "source": [
        "import torch; import sklearn\n",
        "\n",
        "# 1. Carregar dados\n",
        "iris = sklearn.datasets.load_iris()\n",
        "X = iris.data        # 4 features: sépalas e pétalas\n",
        "y = (iris.target == 1).astype(float)  # 1 se Versicolor, 0 caso contrário\n",
        "\n",
        "# 2. Preparar dados para pytorch\n",
        "X = torch.tensor(X, dtype=torch.float32)\n",
        "y = torch.tensor(y, dtype=torch.float32).view(-1, 1)\n",
        "\n",
        "tmp = y\n",
        "print(tmp)\n",
        "print(y.shape)"
      ]
    },
    {
      "cell_type": "code",
      "source": [
        "import torch; import sklearn\n",
        "from sklearn.model_selection import train_test_split\n",
        "\n",
        "# 1. Carregar dados\n",
        "iris = sklearn.datasets.load_iris()\n",
        "X = iris.data        # 4 features: sépalas e pétalas\n",
        "y = (iris.target == 1).astype(float)  # 1 se Versicolor, 0 caso contrário\n",
        "\n",
        "x_train_n, x_test_n, y_train_n, y_test_n = train_test_split(X, y, test_size=0.2)\n",
        "\n",
        "# conjunto de treino\n",
        "X = torch.tensor(x_train_n, dtype=torch.float32)\n",
        "y = torch.tensor(y_train_n, dtype=torch.float32).view(-1, 1)\n",
        "\n",
        "# conjunto de teste\n",
        "x_test = torch.tensor(x_test_n, dtype=torch.float32)\n",
        "y_test = torch.tensor(y_test_n, dtype=torch.float32).view(-1, 1)\n",
        "\n",
        "print(X.shape)\n",
        "print(y.shape)\n",
        "print(x_test.shape)\n",
        "print(y_test.shape)"
      ],
      "metadata": {
        "id": "5ngZhuKYWT49"
      },
      "execution_count": null,
      "outputs": []
    },
    {
      "cell_type": "markdown",
      "source": [
        "## Definição do modelo e treinamento"
      ],
      "metadata": {
        "id": "nUv-LKlIe9Id"
      }
    },
    {
      "cell_type": "code",
      "source": [
        "# 3. Definir modelo: regressão logística\n",
        "modelo = torch.nn.Linear(4, 1)  # 4 features → 1 saída (probabilidade de ser Versicolor)\n",
        "# multiplicação de matrizes + bias (boolean; opcional)\n",
        "\n",
        "# 4. Definir função de perda e algoritmo de otimização\n",
        "funcao_perda = torch.nn.BCEWithLogitsLoss()  # combinação de sigmoid + BCE\n",
        "# compara a saída com os valores esperados\n",
        "optimizer = torch.optim.SGD(modelo.parameters(), lr=0.1)\n",
        "# SGD - otimizador que calcula o gradiente dos erros"
      ],
      "metadata": {
        "id": "eg97DxIbe0tV"
      },
      "execution_count": null,
      "outputs": []
    },
    {
      "cell_type": "markdown",
      "source": [
        "## Execução do treinamento"
      ],
      "metadata": {
        "id": "Agjn3aQxfHOO"
      }
    },
    {
      "cell_type": "code",
      "source": [
        "# 5. Treino\n",
        "for epoch in range(1000):\n",
        "    optimizer.zero_grad() # reseta gradiente senão acumula\n",
        "    outputs = modelo(x)\n",
        "    print(outputs.shape)\n",
        "    loss = funcao_perda(outputs, y)\n",
        "    loss.backward()\n",
        "    optimizer.step()\n",
        "\n",
        "    if (epoch + 1) % 10 == 0:\n",
        "        print(f\"Época [{epoch+1}/100], Loss: {loss.item():.4f}\")"
      ],
      "metadata": {
        "id": "uuksjyq7e4Mt"
      },
      "execution_count": null,
      "outputs": []
    },
    {
      "cell_type": "markdown",
      "source": [
        "Dados de Teste"
      ],
      "metadata": {
        "id": "y3_xgGJ8amar"
      }
    },
    {
      "cell_type": "code",
      "source": [
        "# Supondo que 'model' é o seu modelo PyTorch já treinado\n",
        "# Supondo que 'X_test' e 'y_test' são os tensores que criamos antes\n",
        "\n",
        "# 1. Colocar o modelo em modo de avaliação\n",
        "modelo.eval()\n",
        "\n",
        "# 2. Desativar o cálculo de gradientes\n",
        "with torch.no_grad():\n",
        "    # 3. Fazer as previsões\n",
        "    # A saída bruta do modelo (logits)\n",
        "      # logits são valores brutos que saem da última camada do modelo\n",
        "      # no nn.Linear( ... , 1 ) - há 1 saída para cada amostra\n",
        "    y_pred_logits = modelo(x_test)\n",
        "    print(y_pred_logits.shape)\n",
        "    print(y_pred_logits)\n",
        "\n",
        "    # 4. Converter logits em classes (0 ou 1)\n",
        "    # Aplicar sigmoide para obter probabilidades (0 a 1)\n",
        "    y_pred_probs = torch.sigmoid(y_pred_logits)\n",
        "    print(y_pred_probs.shape)\n",
        "    print(y_pred_probs)\n",
        "\n",
        "    # Usar um limiar de 0.5 para decidir a classe\n",
        "    # (Se prob > 0.5, é 1; senão, é 0)\n",
        "    y_pred_classes = (y_pred_probs > 0.5).float()\n",
        "    print(y_pred_classes.shape)\n",
        "    print(y_pred_classes)\n",
        "\n",
        "    # y_test possui o gabarito 0 e 1 das classes ! ! ! !\n",
        "    print(\"Conteúdo de y_test\")\n",
        "    print(y_test)\n",
        "    print(y_test.shape)\n",
        "\n",
        "    # 5. Calcular a acurácia\n",
        "    # Comparar as previsões (y_pred_classes) com os rótulos reais (y_test)\n",
        "    # .sum() conta quantos são iguais\n",
        "    # .item() converte o tensor resultante (de 1 item) para um número Python\n",
        "    corretas = (y_pred_classes == y_test).sum().item()\n",
        "\n",
        "    total_amostras_teste = len(y_test)\n",
        "\n",
        "    # quantos acertos em comparação a todo o conjunto de teste\n",
        "    acuracia = corretas / total_amostras_teste\n",
        "\n",
        "    print(f\"--- Resultados da Avaliação ---\")\n",
        "    print(f\"Amostras corretas: {corretas}\")\n",
        "    print(f\"Total de amostras de teste: {total_amostras_teste}\")\n",
        "    print(f\"Acurácia no Teste: {acuracia * 100:.2f}%\")\n",
        "\n",
        "# Opcional: Voltar ao modo de treino se você for treinar mais\n",
        "# modelo.train()"
      ],
      "metadata": {
        "id": "jyAkew4pahwC"
      },
      "execution_count": null,
      "outputs": []
    }
  ]
}